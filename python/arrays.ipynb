{
  "nbformat": 4,
  "nbformat_minor": 0,
  "metadata": {
    "colab": {
      "provenance": []
    },
    "kernelspec": {
      "name": "python3",
      "display_name": "Python 3"
    },
    "language_info": {
      "name": "python"
    }
  },
  "cells": [
    {
      "cell_type": "markdown",
      "source": [
        "### Exercises for [*Intro to Programming in Python*](https://introcs.cs.princeton.edu/python/14array/) Ch 1.4 Arrays\n",
        "\n"
      ],
      "metadata": {
        "id": "2O6Ai-mkKIGP"
      }
    },
    {
      "cell_type": "markdown",
      "source": [
        "1. Compose a program that creates a one-dimensional array a containing exactly 1000 integers, and then attempts to access a[1000]. What happens when you run the program?"
      ],
      "metadata": {
        "id": "VfTkxpGgkL3g"
      }
    },
    {
      "cell_type": "markdown",
      "source": [],
      "metadata": {
        "id": "bzDJrtDTkDWH"
      }
    },
    {
      "cell_type": "code",
      "source": [
        "a = [0] * 1000 # semicolons are totally legal but not pythonic\n",
        "print(a[999]) # a[1000] wil return an index out of range error "
      ],
      "metadata": {
        "colab": {
          "base_uri": "https://localhost:8080/"
        },
        "id": "pNCeoEodKQbW",
        "outputId": "caf5d32b-7ac9-4f9a-ef3b-0a34690f2316"
      },
      "execution_count": 8,
      "outputs": [
        {
          "output_type": "stream",
          "name": "stdout",
          "text": [
            "0\n"
          ]
        }
      ]
    },
    {
      "cell_type": "markdown",
      "source": [
        "2. Given two vectors of length n that are represented with one-dimensional arrays, compose a code fragment that computes the Euclidean distance between them (the square root of the sum of the squares of the differences between corresponding elements)."
      ],
      "metadata": {
        "id": "t6faIZKQLYfA"
      }
    },
    {
      "cell_type": "code",
      "source": [
        "## TODO: Change from Function to I/O\n",
        "\n",
        "from math import sqrt\n",
        "# NOTE: python also has math.dist() function for Euclidean distance\n",
        "# https://github.com/python/cpython/blob/baf4eb083c09b323cc12b8636c28c14089b87de8/Modules/mathmodule.c#L2550\n",
        "\n",
        "# TODO: can we use list comprehensions && zip? \n",
        "# eg. from source code sqrt(sum((px - qx) ** 2.0 for px, qx in zip(p, q)))\n",
        "def get_euclidean_dist(arr1, arr2):\n",
        "  if len(arr1) != len(arr2):\n",
        "    return(\"Error: arrays must be of equal length\")\n",
        "  sum = 0\n",
        "  for i in range(len(a)):\n",
        "    sum += ((a[i] - b[i])**2)\n",
        "    dist = sqrt(sum) \n",
        "  return dist\n",
        "\n",
        "# Tests\n",
        "# two arrays of length 0\n",
        "print(get_euclidean_dist([],[])) # returns 0\n",
        "# two arrays of length 1\n",
        "print(get_euclidean_dist([3],[2])) \n",
        "# two arrays of length n \n",
        "print(get_euclidean_dist([3],[2])) \n",
        "# two arrays of unequal length where arr1 is shorter\n",
        "print(get_euclidean_dist([3],[2,3])) \n",
        "# two arrays of unequal length where arr2 is shorter\n",
        "print(get_euclidean_dist([3,4],[2])) \n",
        "\n",
        "# TODO: Can I use a testing library,  w/ expect syntax? similar to Interview Cake's tests?\n",
        "# can I init two vectors of length n with random ints?\n",
        "# can I write/copy the tests from the coursera course, where they run test hundreds of times? \n",
        "a = [2]\n",
        "print(a) # note that python automagically turns arrays into strings for printing; but for objects you will need to write your own print logic - this will be explained in OOP notebook\n",
        "b = [3]\n",
        "print(b)\n",
        "\n",
        "\n"
      ],
      "metadata": {
        "colab": {
          "base_uri": "https://localhost:8080/"
        },
        "id": "MRte892mLhBJ",
        "outputId": "6ef3b967-7b83-426a-de90-0bc3548a29ea"
      },
      "execution_count": 24,
      "outputs": [
        {
          "output_type": "stream",
          "name": "stdout",
          "text": [
            "1.0\n",
            "1.0\n",
            "1.0\n",
            "Error: arrays must be of equal length\n",
            "Error: arrays must be of equal length\n",
            "[2]\n",
            "[3]\n"
          ]
        }
      ]
    },
    {
      "cell_type": "markdown",
      "source": [
        "3. Compose a code fragment that reverses the order of a one-dimensional array of floats. Do not create another array to hold the result. Hint: Use the code provided earlier in this web page for exchanging two elements."
      ],
      "metadata": {
        "id": "Op3xNpWCRH43"
      }
    },
    {
      "cell_type": "code",
      "source": [
        "# reverses the order of a one-dimensional array of floats\n",
        "def reverse_in_place(arr):\n",
        "  if len(arr) <= 1:\n",
        "    return arr\n",
        "  \n",
        "  for i in range(len(arr) // 2): # NOTE: `//` means divide and round down, eg math.floor()\n",
        "    arr[i], arr[-(i+1)] = arr[-(i+1)], arr[i] # swap  \n",
        "\n",
        "  return(arr)\n",
        "\n",
        "# TESTS\n",
        "# empty array\n",
        "print(reverse_in_place([]))\n",
        "# array w/ length 1\n",
        "print(reverse_in_place([1]))\n",
        "# array with even length\n",
        "print(reverse_in_place([1,2]))\n",
        "# array with odd length\n",
        "print(reverse_in_place([1,2,3,4,5]))\n",
        "# array with longer even length\n",
        "print(reverse_in_place([1,2,3,4,5,6,7,8]))\n",
        "# TODO: can I test that the new array is NOT a new one?"
      ],
      "metadata": {
        "colab": {
          "base_uri": "https://localhost:8080/"
        },
        "id": "RDUYF5eXRQwv",
        "outputId": "93be5303-4126-48df-f590-012b051565f5"
      },
      "execution_count": 39,
      "outputs": [
        {
          "output_type": "stream",
          "name": "stdout",
          "text": [
            "[]\n",
            "[1]\n",
            "[2, 1]\n",
            "[5, 4, 3, 2, 1]\n",
            "[8, 7, 6, 5, 4, 3, 2, 1]\n"
          ]
        }
      ]
    },
    {
      "cell_type": "markdown",
      "source": [
        "1.4.33  Find a duplicate. Given an integer array of length n, with each value between 1 and n, write a code fragment to determine whether there are any duplicate values. You may not use an extra array (but you do not need to preserve the contents of the given array.)"
      ],
      "metadata": {
        "id": "m6DCn39wrPdc"
      }
    },
    {
      "cell_type": "markdown",
      "source": [
        "\n"
      ],
      "metadata": {
        "id": "7HH15yKerX9C"
      }
    },
    {
      "cell_type": "code",
      "source": [
        "# approach: put each element at its index\n",
        "def find_duplicate(arr):\n",
        "  for i, el in enumerate(arr):\n",
        "    if i == el:\n",
        "      continue\n",
        "    elif el == arr[el]:\n",
        "      return True\n",
        "    else:\n",
        "      arr[i], arr[el] = arr[el], arr[i]\n",
        "  return False\n",
        "\n",
        "#TESTS\n",
        "# arr of len 0/1 => False\n",
        "print(find_duplicate([]))\n",
        "# [1,1] => True\n",
        "print(find_duplicate([1,1]))\n",
        "# [1,0] => False\n",
        "print(find_duplicate([1,0]))\n",
        "print(find_duplicate([0,1]))\n",
        "# [0,1,2,2] => True\n",
        "print(find_duplicate([0,1,2,2]))\n",
        "# [0,1,0] => True\n",
        "print(find_duplicate([0,1,0]))"
      ],
      "metadata": {
        "id": "ooIcCYlTvNK1"
      },
      "execution_count": null,
      "outputs": []
    },
    {
      "cell_type": "markdown",
      "source": [],
      "metadata": {
        "id": "n2x23ZPFuXR4"
      }
    }
  ]
}